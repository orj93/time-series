{
 "cells": [
  {
   "cell_type": "code",
   "execution_count": 5,
   "id": "c22ed5fe",
   "metadata": {},
   "outputs": [],
   "source": [
    "import pandas as pd\n",
    "total_data = pd.read_csv(r\"https://raw.githubusercontent.com/4GeeksAcademy/alternative-time-series-project/main/sales.csv\")"
   ]
  },
  {
   "cell_type": "code",
   "execution_count": 6,
   "id": "47c3dde0",
   "metadata": {},
   "outputs": [],
   "source": [
    "total_data.to_csv(r\"C:\\Users\\user\\4Geeks\\Módulos\\Módulo22\\time-series\\data\\raw\\raw_data_time_series.csv\")"
   ]
  },
  {
   "cell_type": "code",
   "execution_count": 7,
   "id": "86da4a97",
   "metadata": {},
   "outputs": [
    {
     "data": {
      "text/html": [
       "<div>\n",
       "<style scoped>\n",
       "    .dataframe tbody tr th:only-of-type {\n",
       "        vertical-align: middle;\n",
       "    }\n",
       "\n",
       "    .dataframe tbody tr th {\n",
       "        vertical-align: top;\n",
       "    }\n",
       "\n",
       "    .dataframe thead th {\n",
       "        text-align: right;\n",
       "    }\n",
       "</style>\n",
       "<table border=\"1\" class=\"dataframe\">\n",
       "  <thead>\n",
       "    <tr style=\"text-align: right;\">\n",
       "      <th></th>\n",
       "      <th>date</th>\n",
       "      <th>sales</th>\n",
       "    </tr>\n",
       "  </thead>\n",
       "  <tbody>\n",
       "    <tr>\n",
       "      <th>0</th>\n",
       "      <td>2022-09-03 17:10:08.079328</td>\n",
       "      <td>55.292157</td>\n",
       "    </tr>\n",
       "    <tr>\n",
       "      <th>1</th>\n",
       "      <td>2022-09-04 17:10:08.079328</td>\n",
       "      <td>53.803211</td>\n",
       "    </tr>\n",
       "    <tr>\n",
       "      <th>2</th>\n",
       "      <td>2022-09-05 17:10:08.079328</td>\n",
       "      <td>58.141693</td>\n",
       "    </tr>\n",
       "    <tr>\n",
       "      <th>3</th>\n",
       "      <td>2022-09-06 17:10:08.079328</td>\n",
       "      <td>64.530899</td>\n",
       "    </tr>\n",
       "    <tr>\n",
       "      <th>4</th>\n",
       "      <td>2022-09-07 17:10:08.079328</td>\n",
       "      <td>66.013633</td>\n",
       "    </tr>\n",
       "    <tr>\n",
       "      <th>...</th>\n",
       "      <td>...</td>\n",
       "      <td>...</td>\n",
       "    </tr>\n",
       "    <tr>\n",
       "      <th>361</th>\n",
       "      <td>2023-08-30 17:10:08.079328</td>\n",
       "      <td>989.600354</td>\n",
       "    </tr>\n",
       "    <tr>\n",
       "      <th>362</th>\n",
       "      <td>2023-08-31 17:10:08.079328</td>\n",
       "      <td>994.987326</td>\n",
       "    </tr>\n",
       "    <tr>\n",
       "      <th>363</th>\n",
       "      <td>2023-09-01 17:10:08.079328</td>\n",
       "      <td>995.814415</td>\n",
       "    </tr>\n",
       "    <tr>\n",
       "      <th>364</th>\n",
       "      <td>2023-09-02 17:10:08.079328</td>\n",
       "      <td>997.350214</td>\n",
       "    </tr>\n",
       "    <tr>\n",
       "      <th>365</th>\n",
       "      <td>2023-09-03 17:10:08.079328</td>\n",
       "      <td>1000.482785</td>\n",
       "    </tr>\n",
       "  </tbody>\n",
       "</table>\n",
       "<p>366 rows × 2 columns</p>\n",
       "</div>"
      ],
      "text/plain": [
       "                           date        sales\n",
       "0    2022-09-03 17:10:08.079328    55.292157\n",
       "1    2022-09-04 17:10:08.079328    53.803211\n",
       "2    2022-09-05 17:10:08.079328    58.141693\n",
       "3    2022-09-06 17:10:08.079328    64.530899\n",
       "4    2022-09-07 17:10:08.079328    66.013633\n",
       "..                          ...          ...\n",
       "361  2023-08-30 17:10:08.079328   989.600354\n",
       "362  2023-08-31 17:10:08.079328   994.987326\n",
       "363  2023-09-01 17:10:08.079328   995.814415\n",
       "364  2023-09-02 17:10:08.079328   997.350214\n",
       "365  2023-09-03 17:10:08.079328  1000.482785\n",
       "\n",
       "[366 rows x 2 columns]"
      ]
     },
     "execution_count": 7,
     "metadata": {},
     "output_type": "execute_result"
    }
   ],
   "source": [
    "total_data"
   ]
  },
  {
   "cell_type": "code",
   "execution_count": 8,
   "id": "c3d8fa45",
   "metadata": {},
   "outputs": [
    {
     "data": {
      "text/plain": [
       "date      object\n",
       "sales    float64\n",
       "dtype: object"
      ]
     },
     "execution_count": 8,
     "metadata": {},
     "output_type": "execute_result"
    }
   ],
   "source": [
    "total_data.dtypes"
   ]
  },
  {
   "cell_type": "code",
   "execution_count": 9,
   "id": "6da8adc5",
   "metadata": {},
   "outputs": [],
   "source": [
    "from datetime import datetime\n",
    "total_data['date'] = total_data['date'].apply(lambda x: datetime.strptime(x, \"%Y-%m-%d %H:%M:%S.%f\").strftime(\"%Y-%m-%d\"))"
   ]
  },
  {
   "cell_type": "code",
   "execution_count": 10,
   "id": "3f507654",
   "metadata": {},
   "outputs": [],
   "source": [
    "total_data = total_data.set_index(\"date\")"
   ]
  },
  {
   "cell_type": "code",
   "execution_count": 11,
   "id": "e5b1ce0a",
   "metadata": {},
   "outputs": [
    {
     "data": {
      "text/html": [
       "<div>\n",
       "<style scoped>\n",
       "    .dataframe tbody tr th:only-of-type {\n",
       "        vertical-align: middle;\n",
       "    }\n",
       "\n",
       "    .dataframe tbody tr th {\n",
       "        vertical-align: top;\n",
       "    }\n",
       "\n",
       "    .dataframe thead th {\n",
       "        text-align: right;\n",
       "    }\n",
       "</style>\n",
       "<table border=\"1\" class=\"dataframe\">\n",
       "  <thead>\n",
       "    <tr style=\"text-align: right;\">\n",
       "      <th></th>\n",
       "      <th>sales</th>\n",
       "    </tr>\n",
       "    <tr>\n",
       "      <th>date</th>\n",
       "      <th></th>\n",
       "    </tr>\n",
       "  </thead>\n",
       "  <tbody>\n",
       "    <tr>\n",
       "      <th>2022-09-03</th>\n",
       "      <td>55.292157</td>\n",
       "    </tr>\n",
       "    <tr>\n",
       "      <th>2022-09-04</th>\n",
       "      <td>53.803211</td>\n",
       "    </tr>\n",
       "    <tr>\n",
       "      <th>2022-09-05</th>\n",
       "      <td>58.141693</td>\n",
       "    </tr>\n",
       "    <tr>\n",
       "      <th>2022-09-06</th>\n",
       "      <td>64.530899</td>\n",
       "    </tr>\n",
       "    <tr>\n",
       "      <th>2022-09-07</th>\n",
       "      <td>66.013633</td>\n",
       "    </tr>\n",
       "    <tr>\n",
       "      <th>...</th>\n",
       "      <td>...</td>\n",
       "    </tr>\n",
       "    <tr>\n",
       "      <th>2023-08-30</th>\n",
       "      <td>989.600354</td>\n",
       "    </tr>\n",
       "    <tr>\n",
       "      <th>2023-08-31</th>\n",
       "      <td>994.987326</td>\n",
       "    </tr>\n",
       "    <tr>\n",
       "      <th>2023-09-01</th>\n",
       "      <td>995.814415</td>\n",
       "    </tr>\n",
       "    <tr>\n",
       "      <th>2023-09-02</th>\n",
       "      <td>997.350214</td>\n",
       "    </tr>\n",
       "    <tr>\n",
       "      <th>2023-09-03</th>\n",
       "      <td>1000.482785</td>\n",
       "    </tr>\n",
       "  </tbody>\n",
       "</table>\n",
       "<p>366 rows × 1 columns</p>\n",
       "</div>"
      ],
      "text/plain": [
       "                  sales\n",
       "date                   \n",
       "2022-09-03    55.292157\n",
       "2022-09-04    53.803211\n",
       "2022-09-05    58.141693\n",
       "2022-09-06    64.530899\n",
       "2022-09-07    66.013633\n",
       "...                 ...\n",
       "2023-08-30   989.600354\n",
       "2023-08-31   994.987326\n",
       "2023-09-01   995.814415\n",
       "2023-09-02   997.350214\n",
       "2023-09-03  1000.482785\n",
       "\n",
       "[366 rows x 1 columns]"
      ]
     },
     "execution_count": 11,
     "metadata": {},
     "output_type": "execute_result"
    }
   ],
   "source": [
    "total_data"
   ]
  },
  {
   "cell_type": "code",
   "execution_count": 12,
   "id": "ccb9a3e5",
   "metadata": {},
   "outputs": [],
   "source": [
    "total_data.to_csv(r\"C:\\Users\\user\\4Geeks\\Módulos\\Módulo22\\time-series\\data\\processed\\sel_data_time_series.csv\")"
   ]
  },
  {
   "cell_type": "code",
   "execution_count": 13,
   "id": "99a5cb0f",
   "metadata": {},
   "outputs": [
    {
     "name": "stderr",
     "output_type": "stream",
     "text": [
      "C:\\Users\\user\\anaconda3\\lib\\site-packages\\scipy\\__init__.py:146: UserWarning: A NumPy version >=1.16.5 and <1.23.0 is required for this version of SciPy (detected version 1.26.2\n",
      "  warnings.warn(f\"A NumPy version >={np_minversion} and <{np_maxversion}\"\n"
     ]
    },
    {
     "data": {
      "image/png": "[encoded data removed]",
      "text/plain": [
       "<Figure size 720x360 with 1 Axes>"
      ]
     },
     "metadata": {
      "needs_background": "light"
     },
     "output_type": "display_data"
    }
   ],
   "source": [
    "import matplotlib.pyplot as plt\n",
    "import seaborn as sns\n",
    "\n",
    "fig, axis = plt.subplots(figsize = (10, 5))\n",
    "\n",
    "sns.lineplot(data = total_data)\n",
    "\n",
    "plt.xticks([])\n",
    "plt.tight_layout()\n",
    "\n",
    "plt.show()"
   ]
  },
  {
   "cell_type": "code",
   "execution_count": 14,
   "id": "d12aac2e",
   "metadata": {},
   "outputs": [
    {
     "data": {
      "text/plain": [
       "<statsmodels.tsa.seasonal.DecomposeResult at 0x212cfc93670>"
      ]
     },
     "execution_count": 14,
     "metadata": {},
     "output_type": "execute_result"
    }
   ],
   "source": [
    "from statsmodels.tsa.seasonal import seasonal_decompose\n",
    "\n",
    "decomposition = seasonal_decompose(total_data, period = 12)\n",
    "decomposition"
   ]
  },
  {
   "cell_type": "markdown",
   "id": "e0bea68f",
   "metadata": {},
   "source": [
    "## Tendencia"
   ]
  },
  {
   "cell_type": "code",
   "execution_count": 15,
   "id": "72506bfe",
   "metadata": {},
   "outputs": [
    {
     "data": {
      "image/png": "[encoded data removed]",
      "text/plain": [
       "<Figure size 720x360 with 1 Axes>"
      ]
     },
     "metadata": {
      "needs_background": "light"
     },
     "output_type": "display_data"
    }
   ],
   "source": [
    "trend = decomposition.trend\n",
    "\n",
    "fig, axis = plt.subplots(figsize = (10, 5))\n",
    "\n",
    "sns.lineplot(data = total_data)\n",
    "sns.lineplot(data = trend)\n",
    "\n",
    "plt.tight_layout()\n",
    "plt.xticks([])\n",
    "\n",
    "plt.show()"
   ]
  },
  {
   "cell_type": "markdown",
   "id": "480cdf70",
   "metadata": {},
   "source": [
    "Se observa una tendencia positiva a lo largo de los días"
   ]
  },
  {
   "cell_type": "markdown",
   "id": "41c5ce6e",
   "metadata": {},
   "source": [
    "## Estacionalidad"
   ]
  },
  {
   "cell_type": "code",
   "execution_count": 16,
   "id": "9a61b0bb",
   "metadata": {},
   "outputs": [
    {
     "data": {
      "image/png": "[encoded data removed]",
      "text/plain": [
       "<Figure size 720x360 with 1 Axes>"
      ]
     },
     "metadata": {
      "needs_background": "light"
     },
     "output_type": "display_data"
    }
   ],
   "source": [
    "seasonal = decomposition.seasonal\n",
    "\n",
    "fig, axis = plt.subplots(figsize = (10, 5))\n",
    "\n",
    "sns.lineplot(data = total_data)\n",
    "sns.lineplot(data = seasonal)\n",
    "\n",
    "plt.tight_layout()\n",
    "plt.xticks([])\n",
    "\n",
    "plt.show()"
   ]
  },
  {
   "cell_type": "code",
   "execution_count": 17,
   "id": "4ff22634",
   "metadata": {},
   "outputs": [
    {
     "name": "stdout",
     "output_type": "stream",
     "text": [
      "Resultados de la prueba de Dickey-Fuller:\n"
     ]
    },
    {
     "data": {
      "text/plain": [
       "Test Statistic                   0.545414\n",
       "p-value                          0.986190\n",
       "#Lags Used                      13.000000\n",
       "Number of Observations Used    352.000000\n",
       "Critical Value (1%)             -3.449065\n",
       "Critical Value (5%)             -2.869786\n",
       "Critical Value (10%)            -2.571163\n",
       "dtype: float64"
      ]
     },
     "execution_count": 17,
     "metadata": {},
     "output_type": "execute_result"
    }
   ],
   "source": [
    "from statsmodels.tsa.stattools import adfuller\n",
    "\n",
    "def test_stationarity(timeseries):\n",
    "    print(\"Resultados de la prueba de Dickey-Fuller:\")\n",
    "    dftest = adfuller(timeseries, autolag = \"AIC\")\n",
    "    dfoutput = pd.Series(dftest[0:4], index = [\"Test Statistic\", \"p-value\", \"#Lags Used\", \"Number of Observations Used\"])\n",
    "    for key,value in dftest[4].items():\n",
    "        dfoutput[\"Critical Value (%s)\"%key] = value\n",
    "    return dfoutput\n",
    "\n",
    "test_stationarity(total_data)"
   ]
  },
  {
   "cell_type": "markdown",
   "id": "179425f3",
   "metadata": {},
   "source": [
    "$H_0$: La serie no es estacionaria  \n",
    "$H_1$: La serie es estacionaria"
   ]
  },
  {
   "cell_type": "markdown",
   "id": "5aa6f963",
   "metadata": {},
   "source": [
    "Como el valor p es mayor a 0.05, esto significa que nuestra hipótesis nula no será rechazada y tomaremos esta serie como no estacionaria"
   ]
  },
  {
   "cell_type": "markdown",
   "id": "e544f99a",
   "metadata": {},
   "source": [
    "## Análisis de la variabilidad"
   ]
  },
  {
   "cell_type": "code",
   "execution_count": 18,
   "id": "e6edd0d7",
   "metadata": {},
   "outputs": [
    {
     "data": {
      "image/png": "[encoded data removed]",
      "text/plain": [
       "<Figure size 720x360 with 1 Axes>"
      ]
     },
     "metadata": {
      "needs_background": "light"
     },
     "output_type": "display_data"
    }
   ],
   "source": [
    "residual = decomposition.resid\n",
    "\n",
    "fig, axis = plt.subplots(figsize = (10, 5))\n",
    "\n",
    "sns.lineplot(data = total_data)\n",
    "sns.lineplot(data = residual)\n",
    "\n",
    "plt.tight_layout()\n",
    "plt.xticks([])\n",
    "\n",
    "plt.show()"
   ]
  },
  {
   "cell_type": "markdown",
   "id": "47907579",
   "metadata": {},
   "source": [
    "## Análisis de la autocorrelación"
   ]
  },
  {
   "cell_type": "code",
   "execution_count": 19,
   "id": "02ec6de6",
   "metadata": {},
   "outputs": [
    {
     "data": {
      "image/png": "[encoded data removed]",
      "text/plain": [
       "<Figure size 432x288 with 1 Axes>"
      ]
     },
     "metadata": {
      "needs_background": "light"
     },
     "output_type": "display_data"
    }
   ],
   "source": [
    "from statsmodels.graphics.tsaplots import plot_acf\n",
    "\n",
    "plot_acf(total_data)\n",
    "\n",
    "plt.tight_layout()\n",
    "plt.xticks([])\n",
    "\n",
    "plt.show()"
   ]
  },
  {
   "cell_type": "markdown",
   "id": "177b3d5c",
   "metadata": {},
   "source": [
    "## Entrenamiento del modelo"
   ]
  },
  {
   "cell_type": "code",
   "execution_count": 20,
   "id": "25d03b91",
   "metadata": {},
   "outputs": [],
   "source": [
    "# total_data_stationary = total_data.diff().dropna()\n",
    "\n",
    "# test_stationarity(total_data_stationary)"
   ]
  },
  {
   "cell_type": "code",
   "execution_count": 21,
   "id": "69653918",
   "metadata": {},
   "outputs": [
    {
     "name": "stderr",
     "output_type": "stream",
     "text": [
      "C:\\Users\\user\\anaconda3\\lib\\site-packages\\pmdarima\\arima\\_validation.py:62: UserWarning: m (12) set for non-seasonal fit. Setting to 0\n",
      "  warnings.warn(\"m (%i) set for non-seasonal fit. Setting to 0\" % m)\n"
     ]
    },
    {
     "name": "stdout",
     "output_type": "stream",
     "text": [
      "Performing stepwise search to minimize aic\n",
      " ARIMA(2,1,2)(0,0,0)[0] intercept   : AIC=1843.274, Time=0.65 sec\n",
      " ARIMA(0,1,0)(0,0,0)[0] intercept   : AIC=2096.542, Time=0.03 sec\n",
      " ARIMA(1,1,0)(0,0,0)[0] intercept   : AIC=1970.972, Time=0.05 sec\n",
      " ARIMA(0,1,1)(0,0,0)[0] intercept   : AIC=1839.586, Time=0.18 sec\n",
      " ARIMA(0,1,0)(0,0,0)[0]             : AIC=2209.657, Time=0.03 sec\n",
      " ARIMA(1,1,1)(0,0,0)[0] intercept   : AIC=1839.552, Time=0.31 sec\n",
      " ARIMA(2,1,1)(0,0,0)[0] intercept   : AIC=1841.532, Time=0.42 sec\n",
      " ARIMA(1,1,2)(0,0,0)[0] intercept   : AIC=1843.586, Time=0.19 sec\n",
      " ARIMA(0,1,2)(0,0,0)[0] intercept   : AIC=1839.607, Time=0.23 sec\n",
      " ARIMA(2,1,0)(0,0,0)[0] intercept   : AIC=1922.648, Time=0.08 sec\n",
      " ARIMA(1,1,1)(0,0,0)[0]             : AIC=inf, Time=0.23 sec\n",
      "\n",
      "Best model:  ARIMA(1,1,1)(0,0,0)[0] intercept\n",
      "Total fit time: 2.431 seconds\n"
     ]
    }
   ],
   "source": [
    "# import pmdarima\n",
    "from pmdarima import auto_arima\n",
    "model = auto_arima(total_data, seasonal = False, trace = True, m = 12)"
   ]
  },
  {
   "cell_type": "code",
   "execution_count": 22,
   "id": "44860b4c",
   "metadata": {},
   "outputs": [
    {
     "data": {
      "text/html": [
       "<table class=\"simpletable\">\n",
       "<caption>SARIMAX Results</caption>\n",
       "<tr>\n",
       "  <th>Dep. Variable:</th>           <td>y</td>        <th>  No. Observations:  </th>    <td>366</td>  \n",
       "</tr>\n",
       "<tr>\n",
       "  <th>Model:</th>           <td>SARIMAX(1, 1, 1)</td> <th>  Log Likelihood     </th> <td>-915.776</td>\n",
       "</tr>\n",
       "<tr>\n",
       "  <th>Date:</th>            <td>Fri, 29 Dec 2023</td> <th>  AIC                </th> <td>1839.552</td>\n",
       "</tr>\n",
       "<tr>\n",
       "  <th>Time:</th>                <td>18:00:43</td>     <th>  BIC                </th> <td>1855.152</td>\n",
       "</tr>\n",
       "<tr>\n",
       "  <th>Sample:</th>             <td>09-03-2022</td>    <th>  HQIC               </th> <td>1845.752</td>\n",
       "</tr>\n",
       "<tr>\n",
       "  <th></th>                   <td>- 09-03-2023</td>   <th>                     </th>     <td> </td>   \n",
       "</tr>\n",
       "<tr>\n",
       "  <th>Covariance Type:</th>        <td>opg</td>       <th>                     </th>     <td> </td>   \n",
       "</tr>\n",
       "</table>\n",
       "<table class=\"simpletable\">\n",
       "<tr>\n",
       "      <td></td>         <th>coef</th>     <th>std err</th>      <th>z</th>      <th>P>|z|</th>  <th>[0.025</th>    <th>0.975]</th>  \n",
       "</tr>\n",
       "<tr>\n",
       "  <th>intercept</th> <td>    2.8110</td> <td>    0.134</td> <td>   21.055</td> <td> 0.000</td> <td>    2.549</td> <td>    3.073</td>\n",
       "</tr>\n",
       "<tr>\n",
       "  <th>ar.L1</th>     <td>   -0.0821</td> <td>    0.052</td> <td>   -1.592</td> <td> 0.111</td> <td>   -0.183</td> <td>    0.019</td>\n",
       "</tr>\n",
       "<tr>\n",
       "  <th>ma.L1</th>     <td>   -0.9413</td> <td>    0.020</td> <td>  -47.701</td> <td> 0.000</td> <td>   -0.980</td> <td>   -0.903</td>\n",
       "</tr>\n",
       "<tr>\n",
       "  <th>sigma2</th>    <td>    8.7903</td> <td>    0.688</td> <td>   12.777</td> <td> 0.000</td> <td>    7.442</td> <td>   10.139</td>\n",
       "</tr>\n",
       "</table>\n",
       "<table class=\"simpletable\">\n",
       "<tr>\n",
       "  <th>Ljung-Box (L1) (Q):</th>     <td>0.00</td> <th>  Jarque-Bera (JB):  </th> <td>0.76</td>\n",
       "</tr>\n",
       "<tr>\n",
       "  <th>Prob(Q):</th>                <td>1.00</td> <th>  Prob(JB):          </th> <td>0.68</td>\n",
       "</tr>\n",
       "<tr>\n",
       "  <th>Heteroskedasticity (H):</th> <td>0.90</td> <th>  Skew:              </th> <td>0.07</td>\n",
       "</tr>\n",
       "<tr>\n",
       "  <th>Prob(H) (two-sided):</th>    <td>0.58</td> <th>  Kurtosis:          </th> <td>2.82</td>\n",
       "</tr>\n",
       "</table><br/><br/>Warnings:<br/>[1] Covariance matrix calculated using the outer product of gradients (complex-step)."
      ],
      "text/plain": [
       "<class 'statsmodels.iolib.summary.Summary'>\n",
       "\"\"\"\n",
       "                               SARIMAX Results                                \n",
       "==============================================================================\n",
       "Dep. Variable:                      y   No. Observations:                  366\n",
       "Model:               SARIMAX(1, 1, 1)   Log Likelihood                -915.776\n",
       "Date:                Fri, 29 Dec 2023   AIC                           1839.552\n",
       "Time:                        18:00:43   BIC                           1855.152\n",
       "Sample:                    09-03-2022   HQIC                          1845.752\n",
       "                         - 09-03-2023                                         \n",
       "Covariance Type:                  opg                                         \n",
       "==============================================================================\n",
       "                 coef    std err          z      P>|z|      [0.025      0.975]\n",
       "------------------------------------------------------------------------------\n",
       "intercept      2.8110      0.134     21.055      0.000       2.549       3.073\n",
       "ar.L1         -0.0821      0.052     -1.592      0.111      -0.183       0.019\n",
       "ma.L1         -0.9413      0.020    -47.701      0.000      -0.980      -0.903\n",
       "sigma2         8.7903      0.688     12.777      0.000       7.442      10.139\n",
       "===================================================================================\n",
       "Ljung-Box (L1) (Q):                   0.00   Jarque-Bera (JB):                 0.76\n",
       "Prob(Q):                              1.00   Prob(JB):                         0.68\n",
       "Heteroskedasticity (H):               0.90   Skew:                             0.07\n",
       "Prob(H) (two-sided):                  0.58   Kurtosis:                         2.82\n",
       "===================================================================================\n",
       "\n",
       "Warnings:\n",
       "[1] Covariance matrix calculated using the outer product of gradients (complex-step).\n",
       "\"\"\""
      ]
     },
     "execution_count": 22,
     "metadata": {},
     "output_type": "execute_result"
    }
   ],
   "source": [
    "model.summary()"
   ]
  },
  {
   "cell_type": "code",
   "execution_count": 23,
   "id": "e47ba430",
   "metadata": {},
   "outputs": [
    {
     "data": {
      "text/plain": [
       "2023-09-04    1002.158117\n",
       "2023-09-05    1004.831639\n",
       "2023-09-06    1007.423258\n",
       "2023-09-07    1010.021597\n",
       "2023-09-08    1012.619384\n",
       "2023-09-09    1015.217217\n",
       "2023-09-10    1017.815046\n",
       "2023-09-11    1020.412876\n",
       "2023-09-12    1023.010705\n",
       "2023-09-13    1025.608534\n",
       "2023-09-14    1028.206364\n",
       "2023-09-15    1030.804193\n",
       "2023-09-16    1033.402023\n",
       "2023-09-17    1035.999852\n",
       "2023-09-18    1038.597681\n",
       "2023-09-19    1041.195511\n",
       "2023-09-20    1043.793340\n",
       "2023-09-21    1046.391169\n",
       "2023-09-22    1048.988999\n",
       "2023-09-23    1051.586828\n",
       "2023-09-24    1054.184658\n",
       "2023-09-25    1056.782487\n",
       "2023-09-26    1059.380316\n",
       "2023-09-27    1061.978146\n",
       "2023-09-28    1064.575975\n",
       "2023-09-29    1067.173805\n",
       "2023-09-30    1069.771634\n",
       "2023-10-01    1072.369463\n",
       "2023-10-02    1074.967293\n",
       "2023-10-03    1077.565122\n",
       "Freq: D, dtype: float64"
      ]
     },
     "execution_count": 23,
     "metadata": {},
     "output_type": "execute_result"
    }
   ],
   "source": [
    "forecast = model.predict(30)\n",
    "forecast"
   ]
  },
  {
   "cell_type": "code",
   "execution_count": 24,
   "id": "08b25aea",
   "metadata": {},
   "outputs": [
    {
     "data": {
      "text/html": [
       "<div>\n",
       "<style scoped>\n",
       "    .dataframe tbody tr th:only-of-type {\n",
       "        vertical-align: middle;\n",
       "    }\n",
       "\n",
       "    .dataframe tbody tr th {\n",
       "        vertical-align: top;\n",
       "    }\n",
       "\n",
       "    .dataframe thead th {\n",
       "        text-align: right;\n",
       "    }\n",
       "</style>\n",
       "<table border=\"1\" class=\"dataframe\">\n",
       "  <thead>\n",
       "    <tr style=\"text-align: right;\">\n",
       "      <th></th>\n",
       "      <th>forecast</th>\n",
       "    </tr>\n",
       "  </thead>\n",
       "  <tbody>\n",
       "    <tr>\n",
       "      <th>2023-09-04</th>\n",
       "      <td>1002.158117</td>\n",
       "    </tr>\n",
       "    <tr>\n",
       "      <th>2023-09-05</th>\n",
       "      <td>1004.831639</td>\n",
       "    </tr>\n",
       "    <tr>\n",
       "      <th>2023-09-06</th>\n",
       "      <td>1007.423258</td>\n",
       "    </tr>\n",
       "    <tr>\n",
       "      <th>2023-09-07</th>\n",
       "      <td>1010.021597</td>\n",
       "    </tr>\n",
       "    <tr>\n",
       "      <th>2023-09-08</th>\n",
       "      <td>1012.619384</td>\n",
       "    </tr>\n",
       "    <tr>\n",
       "      <th>2023-09-09</th>\n",
       "      <td>1015.217217</td>\n",
       "    </tr>\n",
       "    <tr>\n",
       "      <th>2023-09-10</th>\n",
       "      <td>1017.815046</td>\n",
       "    </tr>\n",
       "    <tr>\n",
       "      <th>2023-09-11</th>\n",
       "      <td>1020.412876</td>\n",
       "    </tr>\n",
       "    <tr>\n",
       "      <th>2023-09-12</th>\n",
       "      <td>1023.010705</td>\n",
       "    </tr>\n",
       "    <tr>\n",
       "      <th>2023-09-13</th>\n",
       "      <td>1025.608534</td>\n",
       "    </tr>\n",
       "    <tr>\n",
       "      <th>2023-09-14</th>\n",
       "      <td>1028.206364</td>\n",
       "    </tr>\n",
       "    <tr>\n",
       "      <th>2023-09-15</th>\n",
       "      <td>1030.804193</td>\n",
       "    </tr>\n",
       "    <tr>\n",
       "      <th>2023-09-16</th>\n",
       "      <td>1033.402023</td>\n",
       "    </tr>\n",
       "    <tr>\n",
       "      <th>2023-09-17</th>\n",
       "      <td>1035.999852</td>\n",
       "    </tr>\n",
       "    <tr>\n",
       "      <th>2023-09-18</th>\n",
       "      <td>1038.597681</td>\n",
       "    </tr>\n",
       "    <tr>\n",
       "      <th>2023-09-19</th>\n",
       "      <td>1041.195511</td>\n",
       "    </tr>\n",
       "    <tr>\n",
       "      <th>2023-09-20</th>\n",
       "      <td>1043.793340</td>\n",
       "    </tr>\n",
       "    <tr>\n",
       "      <th>2023-09-21</th>\n",
       "      <td>1046.391169</td>\n",
       "    </tr>\n",
       "    <tr>\n",
       "      <th>2023-09-22</th>\n",
       "      <td>1048.988999</td>\n",
       "    </tr>\n",
       "    <tr>\n",
       "      <th>2023-09-23</th>\n",
       "      <td>1051.586828</td>\n",
       "    </tr>\n",
       "    <tr>\n",
       "      <th>2023-09-24</th>\n",
       "      <td>1054.184658</td>\n",
       "    </tr>\n",
       "    <tr>\n",
       "      <th>2023-09-25</th>\n",
       "      <td>1056.782487</td>\n",
       "    </tr>\n",
       "    <tr>\n",
       "      <th>2023-09-26</th>\n",
       "      <td>1059.380316</td>\n",
       "    </tr>\n",
       "    <tr>\n",
       "      <th>2023-09-27</th>\n",
       "      <td>1061.978146</td>\n",
       "    </tr>\n",
       "    <tr>\n",
       "      <th>2023-09-28</th>\n",
       "      <td>1064.575975</td>\n",
       "    </tr>\n",
       "    <tr>\n",
       "      <th>2023-09-29</th>\n",
       "      <td>1067.173805</td>\n",
       "    </tr>\n",
       "    <tr>\n",
       "      <th>2023-09-30</th>\n",
       "      <td>1069.771634</td>\n",
       "    </tr>\n",
       "    <tr>\n",
       "      <th>2023-10-01</th>\n",
       "      <td>1072.369463</td>\n",
       "    </tr>\n",
       "    <tr>\n",
       "      <th>2023-10-02</th>\n",
       "      <td>1074.967293</td>\n",
       "    </tr>\n",
       "    <tr>\n",
       "      <th>2023-10-03</th>\n",
       "      <td>1077.565122</td>\n",
       "    </tr>\n",
       "  </tbody>\n",
       "</table>\n",
       "</div>"
      ],
      "text/plain": [
       "               forecast\n",
       "2023-09-04  1002.158117\n",
       "2023-09-05  1004.831639\n",
       "2023-09-06  1007.423258\n",
       "2023-09-07  1010.021597\n",
       "2023-09-08  1012.619384\n",
       "2023-09-09  1015.217217\n",
       "2023-09-10  1017.815046\n",
       "2023-09-11  1020.412876\n",
       "2023-09-12  1023.010705\n",
       "2023-09-13  1025.608534\n",
       "2023-09-14  1028.206364\n",
       "2023-09-15  1030.804193\n",
       "2023-09-16  1033.402023\n",
       "2023-09-17  1035.999852\n",
       "2023-09-18  1038.597681\n",
       "2023-09-19  1041.195511\n",
       "2023-09-20  1043.793340\n",
       "2023-09-21  1046.391169\n",
       "2023-09-22  1048.988999\n",
       "2023-09-23  1051.586828\n",
       "2023-09-24  1054.184658\n",
       "2023-09-25  1056.782487\n",
       "2023-09-26  1059.380316\n",
       "2023-09-27  1061.978146\n",
       "2023-09-28  1064.575975\n",
       "2023-09-29  1067.173805\n",
       "2023-09-30  1069.771634\n",
       "2023-10-01  1072.369463\n",
       "2023-10-02  1074.967293\n",
       "2023-10-03  1077.565122"
      ]
     },
     "execution_count": 24,
     "metadata": {},
     "output_type": "execute_result"
    }
   ],
   "source": [
    "forecast = pd.DataFrame({'forecast': forecast})\n",
    "forecast"
   ]
  },
  {
   "cell_type": "code",
   "execution_count": 25,
   "id": "73ee3e37",
   "metadata": {},
   "outputs": [],
   "source": [
    "forecast.index = forecast.index.strftime('%Y-%m-%d')"
   ]
  },
  {
   "cell_type": "code",
   "execution_count": 26,
   "id": "b87c8b27",
   "metadata": {},
   "outputs": [
    {
     "data": {
      "image/png": "[encoded data removed]",
      "text/plain": [
       "<Figure size 864x360 with 1 Axes>"
      ]
     },
     "metadata": {
      "needs_background": "light"
     },
     "output_type": "display_data"
    }
   ],
   "source": [
    "import matplotlib.pyplot as plt\n",
    "\n",
    "fig, axis = plt.subplots(figsize = (12, 5))\n",
    "\n",
    "sns.lineplot(data = total_data)\n",
    "sns.lineplot(data = forecast, palette=['green'])\n",
    "\n",
    "plt.tight_layout()\n",
    "plt.xticks([])\n",
    "\n",
    "plt.show()"
   ]
  },
  {
   "cell_type": "code",
   "execution_count": 27,
   "id": "3ef9700f",
   "metadata": {},
   "outputs": [],
   "source": [
    "from pickle import dump, load"
   ]
  },
  {
   "cell_type": "code",
   "execution_count": 28,
   "id": "f3884e86",
   "metadata": {},
   "outputs": [],
   "source": [
    "dump(model, open(r\"C:\\Users\\user\\4Geeks\\Módulos\\Módulo22\\time-series\\models\\time_series_model.pkl\", \"wb\"))"
   ]
  },
  {
   "cell_type": "code",
   "execution_count": 29,
   "id": "3601f99b",
   "metadata": {},
   "outputs": [],
   "source": [
    "# !git clone https://github.com/orj93/time-series.git"
   ]
  },
  {
   "cell_type": "code",
   "execution_count": 49,
   "id": "7b839df3",
   "metadata": {},
   "outputs": [],
   "source": [
    "!git add C:\\Users\\user\\4Geeks\\Módulos\\Módulo22\\time-series\\data\\raw\\raw_data_time_series.csv"
   ]
  },
  {
   "cell_type": "code",
   "execution_count": 50,
   "id": "55c35789",
   "metadata": {},
   "outputs": [],
   "source": [
    "!git add C:\\Users\\user\\4Geeks\\Módulos\\Módulo22\\time-series\\data\\processed\\sel_data_time_series.csv"
   ]
  },
  {
   "cell_type": "code",
   "execution_count": 51,
   "id": "320bbb29",
   "metadata": {},
   "outputs": [],
   "source": [
    "!git add C:\\Users\\user\\4Geeks\\Módulos\\Módulo22\\time-series\\models\\time_series_model.pkl"
   ]
  },
  {
   "cell_type": "code",
   "execution_count": 52,
   "id": "d540617e",
   "metadata": {},
   "outputs": [
    {
     "name": "stdout",
     "output_type": "stream",
     "text": [
      "[main 2c9740b] Modelo de serie temporal no estacionaria\n",
      " 1 file changed, 367 insertions(+)\n",
      " create mode 100644 data/processed/sel_data_time_series.csv\n"
     ]
    }
   ],
   "source": [
    "!git commit -m \"Modelo de serie temporal no estacionaria\""
   ]
  },
  {
   "cell_type": "code",
   "execution_count": 53,
   "id": "8661330e",
   "metadata": {},
   "outputs": [
    {
     "name": "stderr",
     "output_type": "stream",
     "text": [
      "To https://github.com/orj93/time-series.git\n",
      "   e945768..2c9740b  main -> main\n"
     ]
    }
   ],
   "source": [
    "!git push origin main"
   ]
  },
  {
   "cell_type": "code",
   "execution_count": 40,
   "id": "375e884e",
   "metadata": {},
   "outputs": [
    {
     "name": "stdout",
     "output_type": "stream",
     "text": [
      "On branch main\n",
      "Your branch is up to date with 'origin/main'.\n",
      "\n",
      "Changes not staged for commit:\n",
      "  (use \"git add <file>...\" to update what will be committed)\n",
      "  (use \"git restore <file>...\" to discard changes in working directory)\n",
      "\tmodified:   time series no estacionaria.ipynb\n",
      "\n",
      "Untracked files:\n",
      "  (use \"git add <file>...\" to include in what will be committed)\n",
      "\t../data/processed/sel_data_time_series.csv\n",
      "\t../data/raw/raw_data_time_series.csv\n",
      "\t../models/time_series_model.pkl\n",
      "\n",
      "no changes added to commit (use \"git add\" and/or \"git commit -a\")\n"
     ]
    }
   ],
   "source": [
    "!git status"
   ]
  },
  {
   "cell_type": "code",
   "execution_count": 39,
   "id": "0e16ca16",
   "metadata": {},
   "outputs": [
    {
     "name": "stdout",
     "output_type": "stream",
     "text": [
      "M\tsrc/time series no estacionaria.ipynb\n",
      "Your branch is up to date with 'origin/main'.\n"
     ]
    },
    {
     "name": "stderr",
     "output_type": "stream",
     "text": [
      "Already on 'main'\n"
     ]
    }
   ],
   "source": [
    "!git checkout main"
   ]
  },
  {
   "cell_type": "code",
   "execution_count": 45,
   "id": "b88d9e2d",
   "metadata": {},
   "outputs": [
    {
     "name": "stdout",
     "output_type": "stream",
     "text": [
      "On branch main\n",
      "Your branch is up to date with 'origin/main'.\n",
      "\n",
      "Changes to be committed:\n",
      "  (use \"git restore --staged <file>...\" to unstage)\n",
      "\tnew file:   ../data/raw/raw_data_time_series.csv\n",
      "\n",
      "Changes not staged for commit:\n",
      "  (use \"git add <file>...\" to update what will be committed)\n",
      "  (use \"git restore <file>...\" to discard changes in working directory)\n",
      "\tmodified:   time series no estacionaria.ipynb\n",
      "\n",
      "Untracked files:\n",
      "  (use \"git add <file>...\" to include in what will be committed)\n",
      "\t../data/processed/sel_data_time_series.csv\n",
      "\t../models/time_series_model.pkl\n",
      "\n"
     ]
    }
   ],
   "source": [
    "!git status"
   ]
  },
  {
   "cell_type": "code",
   "execution_count": null,
   "id": "ce6fef7b",
   "metadata": {},
   "outputs": [],
   "source": []
  }
 ],
 "metadata": {
  "kernelspec": {
   "display_name": "Python 3 (ipykernel)",
   "language": "python",
   "name": "python3"
  },
  "language_info": {
   "codemirror_mode": {
    "name": "ipython",
    "version": 3
   },
   "file_extension": ".py",
   "mimetype": "text/x-python",
   "name": "python",
   "nbconvert_exporter": "python",
   "pygments_lexer": "ipython3",
   "version": "3.9.7"
  }
 },
 "nbformat": 4,
 "nbformat_minor": 5
}
